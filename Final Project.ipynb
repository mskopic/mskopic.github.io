{
 "cells": [
  {
   "cell_type": "markdown",
   "metadata": {},
   "source": [
    "# How does publication number and topic affect a Universities Ranking in Top 20 CS Schools?\n",
    "### Authors: Mitchell Skopic and Kalyan Kanagala\n",
    "## Table of Contents\n",
    "1. Introduction to the Problem\n",
    "2. Data Collection\n",
    "3. Exploratory Data Analysis\n",
    "4. Hypothesis Testing\n",
    "5. Conclusion"
   ]
  },
  {
   "cell_type": "markdown",
   "metadata": {},
   "source": [
    "## 1. Introduction to the Problem\n",
    "### Imagine...\n",
    "You're a bright, ambitious high school senior preparing to enter college. For years you've had a fascination with computers and the exciting research surrounding them. In short, you want to study and contribute to the field of computer science. But where should you study? Which Universities have research you're interested in? Does research influence the computer science education? What should you do?\n",
    "### The Problem\n",
    "There are numerous resources to determine top computer science programs, one of the most famous being U.S. News and World Report's. What factors does U.S. News and World Report use when determining rankings? How is research factored into that? And that is what we aim to find out.<br><br>\n",
    "**How does research quantity and topic influence the rankings of computer science school?**<br><br>\n",
    "This problem is important for several reasons. One, choosing a university is an extremely important decision, one which requires as much information as possible. Two, one gets out of university what they put in. In other words, if a student seeks an academic track, they would prefer a university with an emphasis on research and publication. If they seek a professional track, these metrics matter less. And three, knowing a schools area of research (and how prevalent their research is in the field) is important when making a decision. A systems research oriented student would not be university searching with the same criteria as a data science oriented student looking to work in industry.\n",
    "### Overview\n",
    "To answer these questions and help students make more informed university decisions, we will be analyzing data from csrankings.com in terms of their rankings as well as their data on computer science research from the past ten years. There have been previous analyses on faculty number and rankings (https://krixly.github.io/) however this projects seeks to find correlations between research quantity and area on rankings.\n",
    "#### Ulterior Motives?\n",
    "This analysis also doubles as a tutorial in data science, particularly the data science pipeline. Data science seeks to analyze data to extract meaning. In our case, this meaning comes in the form of understanding how research affects CS rankings. The pipeline we use includes: Data collection and organization, exploratory data analysis, hypothesis testing and machine learning, and finally interpretation and meaning explanation. To aid in this understanding, we have included extra resources in the form of links and definitions.<br>For more information on data science in general, visit: https://en.wikipedia.org/wiki/Data_science<br>For more information on the data science pipeline, visit: https://towardsdatascience.com/a-beginners-guide-to-the-data-science-pipeline-a4904b2d8ad3"
   ]
  },
  {
   "cell_type": "markdown",
   "metadata": {},
   "source": [
    "## 2. Data Collection and Organization\n",
    "The first step in the data science pipeline is data collection and organization. We scraped (Def: data scraping- using code to extract data from another program) data from csrankings.org (see link below). This data contains the raw data used to create this sources Top 20 CS schools rankings. It includes information on professors, their publications, their associated universities, and the area of research. An important aspect of data scraping is its human readability. A csv file (Def: CSV- comma separated values) organizes rows of a data table by separating each data entry with a comma. We read our data into a python data structure called a dataframe in order to more easily work with the data.\n",
    "<br>Follow the steps below to see how we scraped, cleansed, and organized our data.\n",
    "<br><br>Data came from: https://raw.githubusercontent.com/emeryberger/CSrankings/gh-pages/csrankings.csv"
   ]
  },
  {
   "cell_type": "code",
   "execution_count": 2,
   "metadata": {},
   "outputs": [],
   "source": [
    "import requests\n",
    "from bs4 import BeautifulSoup\n",
    "\n",
    "import pandas as pd\n",
    "import numpy as np\n",
    "import matplotlib.pyplot as plt\n",
    "import IPython.display as display\n",
    "%matplotlib inline"
   ]
  },
  {
   "cell_type": "code",
   "execution_count": 85,
   "metadata": {},
   "outputs": [
    {
     "data": {
      "text/html": [
       "<div>\n",
       "<style scoped>\n",
       "    .dataframe tbody tr th:only-of-type {\n",
       "        vertical-align: middle;\n",
       "    }\n",
       "\n",
       "    .dataframe tbody tr th {\n",
       "        vertical-align: top;\n",
       "    }\n",
       "\n",
       "    .dataframe thead th {\n",
       "        text-align: right;\n",
       "    }\n",
       "</style>\n",
       "<table border=\"1\" class=\"dataframe\">\n",
       "  <thead>\n",
       "    <tr style=\"text-align: right;\">\n",
       "      <th></th>\n",
       "      <th>Rank</th>\n",
       "      <th>University</th>\n",
       "    </tr>\n",
       "  </thead>\n",
       "  <tbody>\n",
       "    <tr>\n",
       "      <th>0</th>\n",
       "      <td>1</td>\n",
       "      <td>Carnegie Mellon University</td>\n",
       "    </tr>\n",
       "    <tr>\n",
       "      <th>1</th>\n",
       "      <td>2</td>\n",
       "      <td>Massachusetts Institute of Technology</td>\n",
       "    </tr>\n",
       "    <tr>\n",
       "      <th>2</th>\n",
       "      <td>3</td>\n",
       "      <td>Stanford University</td>\n",
       "    </tr>\n",
       "    <tr>\n",
       "      <th>3</th>\n",
       "      <td>4</td>\n",
       "      <td>University of California - Berkeley</td>\n",
       "    </tr>\n",
       "    <tr>\n",
       "      <th>4</th>\n",
       "      <td>5</td>\n",
       "      <td>Univ. of Illinois at Urbana-Champaign</td>\n",
       "    </tr>\n",
       "    <tr>\n",
       "      <th>5</th>\n",
       "      <td>6</td>\n",
       "      <td>University of Michigan</td>\n",
       "    </tr>\n",
       "    <tr>\n",
       "      <th>6</th>\n",
       "      <td>7</td>\n",
       "      <td>Cornell University</td>\n",
       "    </tr>\n",
       "    <tr>\n",
       "      <th>7</th>\n",
       "      <td>8</td>\n",
       "      <td>University of Washington</td>\n",
       "    </tr>\n",
       "    <tr>\n",
       "      <th>8</th>\n",
       "      <td>9</td>\n",
       "      <td>Georgia Institute of Technology</td>\n",
       "    </tr>\n",
       "    <tr>\n",
       "      <th>9</th>\n",
       "      <td>10</td>\n",
       "      <td>University of California - San Diego</td>\n",
       "    </tr>\n",
       "    <tr>\n",
       "      <th>10</th>\n",
       "      <td>11</td>\n",
       "      <td>University of Maryland - College Park</td>\n",
       "    </tr>\n",
       "    <tr>\n",
       "      <th>11</th>\n",
       "      <td>12</td>\n",
       "      <td>University of Wisconsin - Madison</td>\n",
       "    </tr>\n",
       "    <tr>\n",
       "      <th>12</th>\n",
       "      <td>13</td>\n",
       "      <td>Columbia University</td>\n",
       "    </tr>\n",
       "    <tr>\n",
       "      <th>13</th>\n",
       "      <td>14</td>\n",
       "      <td>University of Pennsylvania</td>\n",
       "    </tr>\n",
       "    <tr>\n",
       "      <th>14</th>\n",
       "      <td>15</td>\n",
       "      <td>University of Southern California</td>\n",
       "    </tr>\n",
       "    <tr>\n",
       "      <th>15</th>\n",
       "      <td>15</td>\n",
       "      <td>University of Texas at Austin</td>\n",
       "    </tr>\n",
       "    <tr>\n",
       "      <th>16</th>\n",
       "      <td>17</td>\n",
       "      <td>Northeastern University</td>\n",
       "    </tr>\n",
       "    <tr>\n",
       "      <th>17</th>\n",
       "      <td>18</td>\n",
       "      <td>Princeton University</td>\n",
       "    </tr>\n",
       "    <tr>\n",
       "      <th>18</th>\n",
       "      <td>18</td>\n",
       "      <td>University of California - Los Angeles</td>\n",
       "    </tr>\n",
       "    <tr>\n",
       "      <th>19</th>\n",
       "      <td>20</td>\n",
       "      <td>Purdue University</td>\n",
       "    </tr>\n",
       "  </tbody>\n",
       "</table>\n",
       "</div>"
      ],
      "text/plain": [
       "    Rank                              University\n",
       "0      1              Carnegie Mellon University\n",
       "1      2   Massachusetts Institute of Technology\n",
       "2      3                     Stanford University\n",
       "3      4     University of California - Berkeley\n",
       "4      5   Univ. of Illinois at Urbana-Champaign\n",
       "5      6                  University of Michigan\n",
       "6      7                      Cornell University\n",
       "7      8                University of Washington\n",
       "8      9         Georgia Institute of Technology\n",
       "9     10    University of California - San Diego\n",
       "10    11   University of Maryland - College Park\n",
       "11    12       University of Wisconsin - Madison\n",
       "12    13                     Columbia University\n",
       "13    14              University of Pennsylvania\n",
       "14    15       University of Southern California\n",
       "15    15           University of Texas at Austin\n",
       "16    17                 Northeastern University\n",
       "17    18                    Princeton University\n",
       "18    18  University of California - Los Angeles\n",
       "19    20                       Purdue University"
      ]
     },
     "execution_count": 85,
     "metadata": {},
     "output_type": "execute_result"
    }
   ],
   "source": [
    "#read the top 20 rankings from csrankings.org (data was copied from the website to a csv)\n",
    "top_20_universities_rank = pd.read_csv(\"top_20_cs_schools.csv\")\n",
    "\n",
    "#remove unnecesary columns\n",
    "top_20_universities_rank.drop('group',axis = 1,inplace = True)\n",
    "top_20_universities_rank.drop('faculty',axis = 1,inplace = True)\n",
    "\n",
    "#get the list of top 20 schools\n",
    "top_20 = list(top_20_universities_rank['University'])\n",
    "\n",
    "top_20_universities_rank"
   ]
  },
  {
   "cell_type": "code",
   "execution_count": 3,
   "metadata": {},
   "outputs": [],
   "source": [
    "url = \"https://raw.githubusercontent.com/emeryberger/CSrankings/gh-pages/csrankings.csv\""
   ]
  },
  {
   "cell_type": "code",
   "execution_count": 15,
   "metadata": {},
   "outputs": [
    {
     "data": {
      "text/html": [
       "<div>\n",
       "<style scoped>\n",
       "    .dataframe tbody tr th:only-of-type {\n",
       "        vertical-align: middle;\n",
       "    }\n",
       "\n",
       "    .dataframe tbody tr th {\n",
       "        vertical-align: top;\n",
       "    }\n",
       "\n",
       "    .dataframe thead th {\n",
       "        text-align: right;\n",
       "    }\n",
       "</style>\n",
       "<table border=\"1\" class=\"dataframe\">\n",
       "  <thead>\n",
       "    <tr style=\"text-align: right;\">\n",
       "      <th></th>\n",
       "      <th>name</th>\n",
       "      <th>affiliation</th>\n",
       "      <th>homepage</th>\n",
       "      <th>scholarid</th>\n",
       "    </tr>\n",
       "  </thead>\n",
       "  <tbody>\n",
       "    <tr>\n",
       "      <th>0</th>\n",
       "      <td>A. Aldo Faisal</td>\n",
       "      <td>Imperial College London</td>\n",
       "      <td>https://www.imperial.ac.uk/people/a.faisal</td>\n",
       "      <td>WjHjbrwAAAAJ</td>\n",
       "    </tr>\n",
       "    <tr>\n",
       "      <th>1</th>\n",
       "      <td>A. Antony Franklin</td>\n",
       "      <td>IIT Hyderabad</td>\n",
       "      <td>http://www.iith.ac.in/~antony/index.html</td>\n",
       "      <td>LVfqLuoAAAAJ</td>\n",
       "    </tr>\n",
       "    <tr>\n",
       "      <th>2</th>\n",
       "      <td>A. C. Cem Say</td>\n",
       "      <td>Boğaziçi University</td>\n",
       "      <td>https://www.cmpe.boun.edu.tr/~say</td>\n",
       "      <td>rOum2XsAAAAJ</td>\n",
       "    </tr>\n",
       "    <tr>\n",
       "      <th>3</th>\n",
       "      <td>A. C. W. Finkelstein</td>\n",
       "      <td>University College London</td>\n",
       "      <td>http://www0.cs.ucl.ac.uk/staff/A.Finkelstein</td>\n",
       "      <td>n8xuCVkAAAAJ</td>\n",
       "    </tr>\n",
       "    <tr>\n",
       "      <th>4</th>\n",
       "      <td>A. Cüneyd Tantug</td>\n",
       "      <td>Istanbul Technical University</td>\n",
       "      <td>http://tantug.com</td>\n",
       "      <td>TTawdWMAAAAJ</td>\n",
       "    </tr>\n",
       "  </tbody>\n",
       "</table>\n",
       "</div>"
      ],
      "text/plain": [
       "                   name                    affiliation  \\\n",
       "0        A. Aldo Faisal        Imperial College London   \n",
       "1    A. Antony Franklin                  IIT Hyderabad   \n",
       "2         A. C. Cem Say            Boğaziçi University   \n",
       "3  A. C. W. Finkelstein      University College London   \n",
       "4      A. Cüneyd Tantug  Istanbul Technical University   \n",
       "\n",
       "                                       homepage     scholarid  \n",
       "0    https://www.imperial.ac.uk/people/a.faisal  WjHjbrwAAAAJ  \n",
       "1      http://www.iith.ac.in/~antony/index.html  LVfqLuoAAAAJ  \n",
       "2             https://www.cmpe.boun.edu.tr/~say  rOum2XsAAAAJ  \n",
       "3  http://www0.cs.ucl.ac.uk/staff/A.Finkelstein  n8xuCVkAAAAJ  \n",
       "4                             http://tantug.com  TTawdWMAAAAJ  "
      ]
     },
     "execution_count": 15,
     "metadata": {},
     "output_type": "execute_result"
    }
   ],
   "source": [
    "prof_names = pd.read_csv(url)\n",
    "prof_names.head()"
   ]
  },
  {
   "cell_type": "markdown",
   "metadata": {},
   "source": [
    "Next, we read data from https://raw.githubusercontent.com/emeryberger/CSrankings/gh-pages/generated-author-info.csv <br>Potential problem: This data could contain entries we don't need or could have invalid entries (for example, if an entry does not contain a value for publication area). <br>Solution: cleanse the data. Cleansing data is a way to remove any invalid or unwanted data. It is also a way to ensure the data we're using will give us the most relevant and valid results."
   ]
  },
  {
   "cell_type": "code",
   "execution_count": 108,
   "metadata": {},
   "outputs": [
    {
     "data": {
      "text/html": [
       "<div>\n",
       "<style scoped>\n",
       "    .dataframe tbody tr th:only-of-type {\n",
       "        vertical-align: middle;\n",
       "    }\n",
       "\n",
       "    .dataframe tbody tr th {\n",
       "        vertical-align: top;\n",
       "    }\n",
       "\n",
       "    .dataframe thead th {\n",
       "        text-align: right;\n",
       "    }\n",
       "</style>\n",
       "<table border=\"1\" class=\"dataframe\">\n",
       "  <thead>\n",
       "    <tr style=\"text-align: right;\">\n",
       "      <th></th>\n",
       "      <th>university</th>\n",
       "      <th>research area</th>\n",
       "      <th>year</th>\n",
       "    </tr>\n",
       "  </thead>\n",
       "  <tbody>\n",
       "    <tr>\n",
       "      <th>0</th>\n",
       "      <td>Imperial College London</td>\n",
       "      <td>icra</td>\n",
       "      <td>2016</td>\n",
       "    </tr>\n",
       "    <tr>\n",
       "      <th>1</th>\n",
       "      <td>Istanbul Technical University</td>\n",
       "      <td>acl</td>\n",
       "      <td>2007</td>\n",
       "    </tr>\n",
       "    <tr>\n",
       "      <th>2</th>\n",
       "      <td>VU Amsterdam</td>\n",
       "      <td>ijcai</td>\n",
       "      <td>2007</td>\n",
       "    </tr>\n",
       "    <tr>\n",
       "      <th>3</th>\n",
       "      <td>Bilkent University</td>\n",
       "      <td>ismb</td>\n",
       "      <td>2014</td>\n",
       "    </tr>\n",
       "    <tr>\n",
       "      <th>4</th>\n",
       "      <td>George Mason University</td>\n",
       "      <td>fse</td>\n",
       "      <td>2016</td>\n",
       "    </tr>\n",
       "  </tbody>\n",
       "</table>\n",
       "</div>"
      ],
      "text/plain": [
       "                      university research area  year\n",
       "0        Imperial College London          icra  2016\n",
       "1  Istanbul Technical University           acl  2007\n",
       "2                   VU Amsterdam         ijcai  2007\n",
       "3             Bilkent University          ismb  2014\n",
       "4        George Mason University           fse  2016"
      ]
     },
     "execution_count": 108,
     "metadata": {},
     "output_type": "execute_result"
    }
   ],
   "source": [
    "#read data from csv file into a pandas dataframe\n",
    "professor_publication_info_csv = \"https://raw.githubusercontent.com/emeryberger/CSrankings/gh-pages/generated-author-info.csv\"\n",
    "professor_publication_info = pd.read_csv(professor_publication_info_csv)\n",
    "\n",
    "#drop the professor's name from the table as we don't need this information\n",
    "professor_publication_info.drop('name',axis = 1,inplace = True)\n",
    "\n",
    "#drop the count and adjustedcount fields. They are not relevant to our analysis\n",
    "professor_publication_info.drop('count',axis = 1,inplace = True)\n",
    "professor_publication_info.drop('adjustedcount',axis = 1,inplace = True)\n",
    "\n",
    "#rename the column label from 'dept' to 'university' because it better represents how we understand the data\n",
    "professor_publication_info.rename(columns={\"dept\":\"university\"}, inplace=True)\n",
    "\n",
    "#rename the column label from 'area' to 'research area' because it better represents how we understand the data\n",
    "professor_publication_info.rename(columns={\"area\":\"research area\"}, inplace=True)\n",
    "\n",
    "professor_publication_info.head()"
   ]
  },
  {
   "cell_type": "markdown",
   "metadata": {},
   "source": [
    "The next step of cleansing the data set is to remove all entries that aren't ranked in the top 20 universities. We show the significance of this step by printing the total number of entries and then the number of remaining entries after we cleanse the unwanted entries. All of that unwanted data would invalidate any data analysis."
   ]
  },
  {
   "cell_type": "code",
   "execution_count": 109,
   "metadata": {},
   "outputs": [
    {
     "name": "stdout",
     "output_type": "stream",
     "text": [
      "Number of total entries before cleansing by year: 101597\n",
      "Number of total entries after cleansing by year: 61801\n"
     ]
    }
   ],
   "source": [
    "print(f'Number of total entries before cleansing by year: {len(professor_publication_info)}')\n",
    "\n",
    "valid_years = ['2008', '2009', '2010', '2011', '2012', '2013', '2014', '2015', '2016', '2017', '2018']\n",
    "\n",
    "#first step is to drop all the entries with data older than 2008\n",
    "professor_publication_info = professor_publication_info[professor_publication_info['year'].isin(valid_years)]\n",
    "\n",
    "print(f'Number of total entries after cleansing by year: {len(professor_publication_info)}')"
   ]
  },
  {
   "cell_type": "code",
   "execution_count": 110,
   "metadata": {},
   "outputs": [
    {
     "name": "stdout",
     "output_type": "stream",
     "text": [
      "Number of total entries after cleansing by uni: 61801\n",
      "Number of total entries after cleansing by uni: 17593\n"
     ]
    }
   ],
   "source": [
    "#this section of cleansing will remove any data from a university not in the top 20\n",
    "print(f'Number of total entries after cleansing by uni: {len(professor_publication_info)}')\n",
    "\n",
    "#dropping anything not related to top 20 universities\n",
    "professor_publication_info = professor_publication_info[professor_publication_info['university'].isin(top_20)]\n",
    "\n",
    "print(f'Number of total entries after cleansing by uni: {len(professor_publication_info)}')"
   ]
  },
  {
   "cell_type": "markdown",
   "metadata": {},
   "source": [
    "As we can see, the cleansing was an extremely important to reducing the number of data entries from 101597 to 17593. Now we're left with data relating only to publications at the top 20 universities from the past 10 years (2008-2018)<br><br>The next step is to ensure there is no missing data. We do this by checking the unique values of each column. If there is something unexpected, such as a 'research area' entry which is not one validated on csrankings.com, we should remove that entry. We accomplish this by looking at the output of unique entries and looking for anything invalid."
   ]
  },
  {
   "cell_type": "code",
   "execution_count": 111,
   "metadata": {},
   "outputs": [
    {
     "name": "stdout",
     "output_type": "stream",
     "text": [
      "Number of total entries before cleansing untracked research areas: 17593\n",
      "Number of total entries after cleansing untracked research areas: 16826\n"
     ]
    }
   ],
   "source": [
    "professor_publication_info['research area'].unique()\n",
    "#by checking which research areas are used to calculate ranking, we found that:\n",
    "#pets is not tracked\n",
    "#chiconf not tracked\n",
    "print(f'Number of total entries before cleansing untracked research areas: {len(professor_publication_info)}')\n",
    "publications_including_untracked = professor_publication_info.copy(deep=True)\n",
    "untracked = ['pets', 'chiconf']\n",
    "#untracked_publications = untracked_publications[untracked_publications['research area'].isin(untracked)]\n",
    "professor_publication_info = professor_publication_info[~professor_publication_info['research area'].isin(untracked)]\n",
    "print(f'Number of total entries after cleansing untracked research areas: {len(professor_publication_info)}')\n",
    "\n",
    "#untracked_publications.head()"
   ]
  },
  {
   "cell_type": "markdown",
   "metadata": {},
   "source": [
    "When looking for invalid data, we found two areas of research which were not part of the set of areas which were considered in the rankings. So, we removed those entries from the main publication data table. Prior to this, we copied the dataframe so we have a version with all publications including those untracked.<br>We did this because it raises the question of why these research areas are not considered. Later, we will look at how much this missing data affects ranking.<br><br>\n",
    "Now that the data is cleansed and organized, we're ready to move onto the next phase of the data science pipeline: Exploratory Data Analysis"
   ]
  },
  {
   "cell_type": "code",
   "execution_count": 87,
   "metadata": {},
   "outputs": [],
   "source": [
    "#\n",
    "undergraduate_number_cs = pd.read_csv(\"undergraduate_cs_research.csv\")\n",
    "undergraduate_number_cs.rename(columns={\"dept\":\"university\"}, inplace=True)\n",
    "#\n",
    "top20_US_Universities = \\\n",
    "professor_publication_info[professor_publication_info['university'].isin(top_20)]\n",
    "final_dataframe = top20_US_Universities.groupby('university').university.count()\n",
    "#final_dataframe"
   ]
  },
  {
   "cell_type": "markdown",
   "metadata": {},
   "source": [
    "## 3. Exploratory Data Anlysis (EDA)\n",
    "This step of the data science pipeline is for getting a sense of the data and what possible meaning could be extracted from it. This is done through a variety of methods, but most commonly done by visualizing the data in charts and graphs.<br>The NIST Engineering Handbook describes EDA as, \"an approach/philosophy for data analysis that employs a variety of techniques (mostly graphical) to:\n",
    "1. maximize insight into a data set;\n",
    "2. uncover underlying structure;\n",
    "3. extract important variables;\n",
    "4. detect outliers and anomalies;\n",
    "5. test underlying assumptions;\n",
    "6. develop parsimonious models; and\n",
    "7. determine optimal factor settings.\""
   ]
  },
  {
   "cell_type": "markdown",
   "metadata": {},
   "source": [
    "For a deeper look at more EDA methods and concepts, this NIST handbook is a useful resource (https://www.itl.nist.gov/div898/handbook/eda/section1/eda11.htm)<br><br>\n",
    "In this step, we will not be answering the question of CS rankings and research, just representing important aspects of the data which we may or may not use for our analysis.<br><br>"
   ]
  },
  {
   "cell_type": "markdown",
   "metadata": {},
   "source": [
    "## 5. Conclusion\n",
    "(fill this in with conclusion stuff. I just wanted to write the very end so it ties back to the beginning 'Imagine' section)\n",
    "<br><br>So...<br>Now you're well versed in both how research influences university rankings and the data science pipeline. With this tutorial you could perform your own analyses on how publication affects other ranking systems (U.S. News and World Report?) or any data driven question. Curious about how poverty in America vs the rest of the world? The effect of temperature on NFL football games? Use these tools to master data and extract meaning from the world around you!<br><br>For a more comprehensive look at data science and machine learning, there are many online classes. Here are a couple highly regarded classses:<br>https://www.class-central.com/course/udacity-intro-to-data-analysis-4937<br>https://www.udemy.com/machinelearning/<br>https://www.udemy.com/data-science-and-machine-learning-with-python-hands-on/"
   ]
  },
  {
   "cell_type": "code",
   "execution_count": null,
   "metadata": {},
   "outputs": [],
   "source": []
  }
 ],
 "metadata": {
  "kernelspec": {
   "display_name": "Python 3",
   "language": "python",
   "name": "python3"
  },
  "language_info": {
   "codemirror_mode": {
    "name": "ipython",
    "version": 3
   },
   "file_extension": ".py",
   "mimetype": "text/x-python",
   "name": "python",
   "nbconvert_exporter": "python",
   "pygments_lexer": "ipython3",
   "version": "3.6.3"
  }
 },
 "nbformat": 4,
 "nbformat_minor": 2
}
