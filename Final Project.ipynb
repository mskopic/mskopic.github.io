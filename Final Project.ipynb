{
 "cells": [
  {
   "cell_type": "code",
   "execution_count": 1,
   "metadata": {},
   "outputs": [],
   "source": [
    "import requests\n",
    "from bs4 import BeautifulSoup\n",
    "\n",
    "import pandas as pd\n",
    "import numpy as np\n",
    "import matplotlib.pyplot as plt\n",
    "import IPython.display as display\n",
    "%matplotlib inline"
   ]
  },
  {
   "cell_type": "code",
   "execution_count": 2,
   "metadata": {},
   "outputs": [],
   "source": [
    "url = \"https://raw.githubusercontent.com/emeryberger/CSrankings/gh-pages/csrankings.csv\""
   ]
  },
  {
   "cell_type": "code",
   "execution_count": 11,
   "metadata": {},
   "outputs": [],
   "source": [
    "prof_names = pd.read_csv(url)"
   ]
  },
  {
   "cell_type": "code",
   "execution_count": 38,
   "metadata": {},
   "outputs": [],
   "source": [
    "professor_publication_info_csv = \"https://raw.githubusercontent.com/emeryberger/CSrankings/gh-pages/generated-author-info.csv\"\n",
    "professor_publication_info = pd.read_csv(professor_publication_info_csv)\n",
    "professor_publication_info.drop('name',axis = 1,inplace = True)\n",
    "professor_publication_info.drop('area',axis = 1, inplace = True)"
   ]
  },
  {
   "cell_type": "code",
   "execution_count": 16,
   "metadata": {},
   "outputs": [],
   "source": [
    "undergraduate_number_cs = pd.read_csv(\"undergraduate_cs_research.csv\")"
   ]
  },
  {
   "cell_type": "code",
   "execution_count": 49,
   "metadata": {},
   "outputs": [
    {
     "data": {
      "text/plain": [
       "dept\n",
       "California Institute of Technology         273\n",
       "Carnegie Mellon University                3557\n",
       "Columbia University                       1153\n",
       "Cornell University                        1704\n",
       "Georgia Institute of Technology           1763\n",
       "Harvard University                         644\n",
       "Massachusetts Institute of Technology     2157\n",
       "Princeton University                      1136\n",
       "Purdue University                          883\n",
       "Stanford University                       2080\n",
       "Univ. of Illinois at Urbana-Champaign     1883\n",
       "University of California - Berkeley       2271\n",
       "University of California - Los Angeles    1013\n",
       "University of California - San Diego      1443\n",
       "University of Maryland - College Park     1283\n",
       "University of Michigan                    1743\n",
       "University of Pennsylvania                1190\n",
       "University of Texas at Austin              994\n",
       "University of Washington                  1638\n",
       "University of Wisconsin - Madison         1125\n",
       "Yale University                            487\n",
       "Name: dept, dtype: int64"
      ]
     },
     "execution_count": 49,
     "metadata": {},
     "output_type": "execute_result"
    }
   ],
   "source": [
    "top20_US_Universities = professor_publication_info[professor_publication_info['dept'].isin(['Carnegie Mellon University'\n",
    "                                                                                            ,'Massachusetts Institute of Technology'\n",
    "                                                                                           ,'University of California - Berkeley'\n",
    "                                                                                           ,'Stanford University'\n",
    "                                                                                           ,'Univ. of Illinois at Urbana-Champaign'\n",
    "                                                                                           ,'Cornell University'\n",
    "                                                                                           ,'University of Washington'\n",
    "                                                                                           ,'Georgia Institute of Technology'\n",
    "                                                                                           ,'Princeton University'\n",
    "                                                                                           ,'University of Texas at Austin'\n",
    "                                                                                           ,'California Institute of Technology'\n",
    "                                                                                           ,'University of Michigan'\n",
    "                                                                                           ,'Columbia University'\n",
    "                                                                                           ,'University of California - Los Angeles'\n",
    "                                                                                           ,'University of Wisconsin - Madison'\n",
    "                                                                                           ,'Harvard University'\n",
    "                                                                                           ,'University of California - San Diego'\n",
    "                                                                                           ,'University of Maryland - College Park'\n",
    "                                                                                           ,'University of Pennsylvania'\n",
    "                                                                                           ,'Purdue University'\n",
    "                                                                                           ,'Yale University'])]\n",
    "final_dataframe = top20_US_Universities.groupby('dept').dept.count()\n",
    "final_dataframe"
   ]
  },
  {
   "cell_type": "code",
   "execution_count": null,
   "metadata": {},
   "outputs": [],
   "source": []
  }
 ],
 "metadata": {
  "kernelspec": {
   "display_name": "Python 3",
   "language": "python",
   "name": "python3"
  },
  "language_info": {
   "codemirror_mode": {
    "name": "ipython",
    "version": 3
   },
   "file_extension": ".py",
   "mimetype": "text/x-python",
   "name": "python",
   "nbconvert_exporter": "python",
   "pygments_lexer": "ipython3",
   "version": "3.6.5"
  }
 },
 "nbformat": 4,
 "nbformat_minor": 2
}
