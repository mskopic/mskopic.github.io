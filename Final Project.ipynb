{
 "cells": [
  {
   "cell_type": "markdown",
   "metadata": {},
   "source": [
    "# How does publication number and topic affect a Universities Ranking in Top 20 CS Schools?\n",
    "### Authors: Mitchell Skopic and Kalyan Kanagala\n",
    "## Table of Contents\n",
    "1. Introduction to the Problem\n",
    "2. Data Collection\n",
    "3. Exploratory Data Analysis\n",
    "4. Hypothesis Testing\n",
    "5. Conclusion"
   ]
  },
  {
   "cell_type": "markdown",
   "metadata": {},
   "source": [
    "## 1. Introduction to the Problem\n",
    "### Imagine...\n",
    "You're a bright, ambitious high school senior preparing to enter college. For years you've had a fascination with computers and the exciting research surrounding them. In short, you want to study and contribute to the field of computer science. But where should you study? Which Universities have research you're interested in? Does research influence the computer science education? What should you do?\n",
    "### The Problem\n",
    "There are numerous resources to determine top computer science programs, one of the most famous being U.S. News and World Report's. What factors does U.S. News and World Report use when determining rankings? How is research factored into that? And that is what we aim to find out.<br><br>\n",
    "**How does research quantitiy and topic influence the rankings of computer science school?**<br><br>\n",
    "This problem is important for for serveral reasons. One, choosing a university is an extremely important decision, one which requires as much information as possible. Two, one gets out of university what they put in. In other words, if a student seeks an academic track, they would prefer a university with an emphasis on research and publication. If they seek a professional track, these metrics matter less. And three, knowing a schools area of research (and how prevalent their research is in the field) is important when making a decision. A systems research oriented student would not be university searching with the same criteria as a data science oriented student looking to work in industry.\n",
    "### Overview\n",
    "To answer these questions and help students make more informed univertsity decisions, we will be analyzing data from csrankings.com in terms of their rankings as well as their data on computer science research from the past ten years. There have been previous analyses on faculty number and rankings (https://krixly.github.io/) however this projects seeks to find correlations between research quantity and area on rankings.\n",
    "#### Alterior Motives?\n",
    "This analysis also doubles as a tutorial in data science, particularly the data sceience pipeline. Data science seeks to analyze data to extract meaning. In our case, this meaning comes in the form of understanding how research affects CS rankings. The pipeline we use includes: Data collection and organization, exploratory data analysis, hypothesis testing and machine learning, and finally interpretation and meaning explanation. To aid in this understanding, we have included extra resources in the form of links and definitions.<br>For more information on data science in general, visit: https://en.wikipedia.org/wiki/Data_science<br>For more information on the data science pipeline, visit: https://towardsdatascience.com/a-beginners-guide-to-the-data-science-pipeline-a4904b2d8ad3"
   ]
  },
  {
   "cell_type": "markdown",
   "metadata": {},
   "source": [
    "## 2. Data Collection and Organization\n",
    "The first step in the data science pipeline is data collection and organization. We scraped (Def: data scraping- using code to extract data from another program) data from csrankings.org (see link below). This data contains the raw data used to create this sources Top 20 CS schools rankings. It includes information on professors, their publications, their associated universities, and the area of research. An important aspect of data scraping is its human readability. A csv file (Def: CSV- comma separated values) organizes rows of a data table by separating each data entry with a comma. We read our data into a python data structure called a dataframe in order to more easily work with the data.\n",
    "<br>Follow the steps below to see how we scraped, cleased, and organizaed our data.\n",
    "<br><br>Data came from: https://raw.githubusercontent.com/emeryberger/CSrankings/gh-pages/csrankings.csv"
   ]
  },
  {
   "cell_type": "code",
   "execution_count": 2,
   "metadata": {},
   "outputs": [],
   "source": [
    "import requests\n",
    "from bs4 import BeautifulSoup\n",
    "\n",
    "import pandas as pd\n",
    "import numpy as np\n",
    "import matplotlib.pyplot as plt\n",
    "import IPython.display as display\n",
    "%matplotlib inline"
   ]
  },
  {
   "cell_type": "code",
   "execution_count": 3,
   "metadata": {},
   "outputs": [],
   "source": [
    "url = \"https://raw.githubusercontent.com/emeryberger/CSrankings/gh-pages/csrankings.csv\""
   ]
  },
  {
   "cell_type": "code",
   "execution_count": 15,
   "metadata": {},
   "outputs": [
    {
     "data": {
      "text/html": [
       "<div>\n",
       "<style scoped>\n",
       "    .dataframe tbody tr th:only-of-type {\n",
       "        vertical-align: middle;\n",
       "    }\n",
       "\n",
       "    .dataframe tbody tr th {\n",
       "        vertical-align: top;\n",
       "    }\n",
       "\n",
       "    .dataframe thead th {\n",
       "        text-align: right;\n",
       "    }\n",
       "</style>\n",
       "<table border=\"1\" class=\"dataframe\">\n",
       "  <thead>\n",
       "    <tr style=\"text-align: right;\">\n",
       "      <th></th>\n",
       "      <th>name</th>\n",
       "      <th>affiliation</th>\n",
       "      <th>homepage</th>\n",
       "      <th>scholarid</th>\n",
       "    </tr>\n",
       "  </thead>\n",
       "  <tbody>\n",
       "    <tr>\n",
       "      <th>0</th>\n",
       "      <td>A. Aldo Faisal</td>\n",
       "      <td>Imperial College London</td>\n",
       "      <td>https://www.imperial.ac.uk/people/a.faisal</td>\n",
       "      <td>WjHjbrwAAAAJ</td>\n",
       "    </tr>\n",
       "    <tr>\n",
       "      <th>1</th>\n",
       "      <td>A. Antony Franklin</td>\n",
       "      <td>IIT Hyderabad</td>\n",
       "      <td>http://www.iith.ac.in/~antony/index.html</td>\n",
       "      <td>LVfqLuoAAAAJ</td>\n",
       "    </tr>\n",
       "    <tr>\n",
       "      <th>2</th>\n",
       "      <td>A. C. Cem Say</td>\n",
       "      <td>Boğaziçi University</td>\n",
       "      <td>https://www.cmpe.boun.edu.tr/~say</td>\n",
       "      <td>rOum2XsAAAAJ</td>\n",
       "    </tr>\n",
       "    <tr>\n",
       "      <th>3</th>\n",
       "      <td>A. C. W. Finkelstein</td>\n",
       "      <td>University College London</td>\n",
       "      <td>http://www0.cs.ucl.ac.uk/staff/A.Finkelstein</td>\n",
       "      <td>n8xuCVkAAAAJ</td>\n",
       "    </tr>\n",
       "    <tr>\n",
       "      <th>4</th>\n",
       "      <td>A. Cüneyd Tantug</td>\n",
       "      <td>Istanbul Technical University</td>\n",
       "      <td>http://tantug.com</td>\n",
       "      <td>TTawdWMAAAAJ</td>\n",
       "    </tr>\n",
       "  </tbody>\n",
       "</table>\n",
       "</div>"
      ],
      "text/plain": [
       "                   name                    affiliation  \\\n",
       "0        A. Aldo Faisal        Imperial College London   \n",
       "1    A. Antony Franklin                  IIT Hyderabad   \n",
       "2         A. C. Cem Say            Boğaziçi University   \n",
       "3  A. C. W. Finkelstein      University College London   \n",
       "4      A. Cüneyd Tantug  Istanbul Technical University   \n",
       "\n",
       "                                       homepage     scholarid  \n",
       "0    https://www.imperial.ac.uk/people/a.faisal  WjHjbrwAAAAJ  \n",
       "1      http://www.iith.ac.in/~antony/index.html  LVfqLuoAAAAJ  \n",
       "2             https://www.cmpe.boun.edu.tr/~say  rOum2XsAAAAJ  \n",
       "3  http://www0.cs.ucl.ac.uk/staff/A.Finkelstein  n8xuCVkAAAAJ  \n",
       "4                             http://tantug.com  TTawdWMAAAAJ  "
      ]
     },
     "execution_count": 15,
     "metadata": {},
     "output_type": "execute_result"
    }
   ],
   "source": [
    "prof_names = pd.read_csv(url)\n",
    "prof_names.head()"
   ]
  },
  {
   "cell_type": "markdown",
   "metadata": {},
   "source": [
    "Here, we read data from https://raw.githubusercontent.com/emeryberger/CSrankings/gh-pages/generated-author-info.csv <br>Potential problem: This data could contain entires we don't need or could have invalid entires (for example, if an entry does not contain a value for publication area). Solution: cleanse the data. Cleansing data is a way to remove any invalid data. It is also a way to ensure the data we're using wil give us the most relevant and valid results."
   ]
  },
  {
   "cell_type": "code",
   "execution_count": 19,
   "metadata": {},
   "outputs": [
    {
     "name": "stdout",
     "output_type": "stream",
     "text": [
      "8836\n",
      "101597\n"
     ]
    }
   ],
   "source": [
    "professor_publication_info_csv = \"https://raw.githubusercontent.com/emeryberger/CSrankings/gh-pages/generated-author-info.csv\"\n",
    "professor_publication_info = pd.read_csv(professor_publication_info_csv)\n",
    "#professor_publication_info.drop('name',axis = 1,inplace = True)\n",
    "#professor_publication_info.drop('area',axis = 1, inplace = True) #left this in because it will be important\n",
    "professor_publication_info.head()\n",
    "\n",
    "#This (below) is not important for us. duplicate professors is fine\n",
    "#print(len(professor_publication_info['name'].unique()))\n",
    "#print(len(professor_publication_info['name']))"
   ]
  },
  {
   "cell_type": "code",
   "execution_count": 13,
   "metadata": {},
   "outputs": [
    {
     "data": {
      "text/plain": [
       "dept\n",
       "California Institute of Technology         273\n",
       "Carnegie Mellon University                3557\n",
       "Columbia University                       1153\n",
       "Cornell University                        1704\n",
       "Georgia Institute of Technology           1763\n",
       "Harvard University                         644\n",
       "Massachusetts Institute of Technology     2157\n",
       "Princeton University                      1136\n",
       "Purdue University                          883\n",
       "Stanford University                       2080\n",
       "Univ. of Illinois at Urbana-Champaign     1883\n",
       "University of California - Berkeley       2271\n",
       "University of California - Los Angeles    1013\n",
       "University of California - San Diego      1443\n",
       "University of Maryland - College Park     1283\n",
       "University of Michigan                    1743\n",
       "University of Pennsylvania                1190\n",
       "University of Texas at Austin              994\n",
       "University of Washington                  1638\n",
       "University of Wisconsin - Madison         1125\n",
       "Yale University                            487\n",
       "Name: dept, dtype: int64"
      ]
     },
     "execution_count": 13,
     "metadata": {},
     "output_type": "execute_result"
    }
   ],
   "source": [
    "#\n",
    "undergraduate_number_cs = pd.read_csv(\"undergraduate_cs_research.csv\")\n",
    "#\n",
    "top20_US_Universities = \\\n",
    "professor_publication_info[professor_publication_info['dept'].isin(['Carnegie Mellon University'\n",
    "                                                                    ,'Massachusetts Institute of Technology'\n",
    "                                                                    ,'University of California - Berkeley'\n",
    "                                                                    ,'Stanford University'\n",
    "                                                                    ,'Univ. of Illinois at Urbana-Champaign'\n",
    "                                                                    ,'Cornell University'\n",
    "                                                                    ,'University of Washington'\n",
    "                                                                    ,'Georgia Institute of Technology'\n",
    "                                                                    ,'Princeton University'\n",
    "                                                                    ,'University of Texas at Austin'\n",
    "                                                                    ,'California Institute of Technology'\n",
    "                                                                    ,'University of Michigan'\n",
    "                                                                    ,'Columbia University'\n",
    "                                                                    ,'University of California - Los Angeles'\n",
    "                                                                    ,'University of Wisconsin - Madison'\n",
    "                                                                    ,'Harvard University'\n",
    "                                                                    ,'University of California - San Diego'\n",
    "                                                                    ,'University of Maryland - College Park'\n",
    "                                                                    ,'University of Pennsylvania'\n",
    "                                                                    ,'Purdue University'\n",
    "                                                                    ,'Yale University'])]\n",
    "final_dataframe = top20_US_Universities.groupby('dept').dept.count()\n",
    "final_dataframe"
   ]
  },
  {
   "cell_type": "markdown",
   "metadata": {},
   "source": [
    "## 3. Exploratory Data Anlysis\n",
    "This step of the data science pipeline is for getting a sense of the data and what possible meaning could be extracted from it. This is done through a variety of methods, but most commonly done by visualizing the data in charts and graphs. In this step, we will not be answering the question of CS rankings and research, just representing important aspects of the data which we may or may not use for our analysis.<br><br>"
   ]
  }
 ],
 "metadata": {
  "kernelspec": {
   "display_name": "Python 3",
   "language": "python",
   "name": "python3"
  },
  "language_info": {
   "codemirror_mode": {
    "name": "ipython",
    "version": 3
   },
   "file_extension": ".py",
   "mimetype": "text/x-python",
   "name": "python",
   "nbconvert_exporter": "python",
   "pygments_lexer": "ipython3",
   "version": "3.6.3"
  }
 },
 "nbformat": 4,
 "nbformat_minor": 2
}
